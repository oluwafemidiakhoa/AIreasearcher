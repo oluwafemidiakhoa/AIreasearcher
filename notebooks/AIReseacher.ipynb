# Importing necessary libraries and agents
import sys
sys.path.append('../src')  # to access src directory

from agents.DataRetrievalAgent import DataRetrievalAgent
from agents.LiteratureReviewAgent import LiteratureReviewAgent
from agents.HypothesisAgent import HypothesisAgent
from agents.ExperimentationAgent import ExperimentationAgent
from agents.DataAnalysisAgent import DataAnalysisAgent
from agents.PredictiveModelAgent import PredictiveModelAgent
from agents.DocumentationAgent import DocumentationAgent

# Initializing agents
data_agent = DataRetrievalAgent("Data Agent", "Retrieves and preprocesses data")
review_agent = LiteratureReviewAgent("Literature Review Agent", "Conducts literature reviews")
hypothesis_agent = HypothesisAgent("Hypothesis Agent", "Generates hypotheses")
experiment_agent = ExperimentationAgent("Experiment Agent", "Designs experiments")
analysis_agent = DataAnalysisAgent("Data Analysis Agent", "Performs data analysis")
model_agent = PredictiveModelAgent("Predictive Model Agent", "Forecasts trends")
doc_agent = DocumentationAgent("Documentation Agent", "Compiles final report")

# Workflow Example
dataset = "berkeleyearth/climate-change-earth-surface-temperature-data"
file_name = "GlobalLandTemperaturesByCity.csv"
goal = "Impact of Climate Change on Global Temperature Trends"

# Data Retrieval and Preprocessing
print("=== Starting Data Retrieval ===")
data = data_agent.retrieve_and_preprocess_data(dataset, file_name)

# Literature Review
print("\n=== Literature Review ===")
literature_review = review_agent.conduct_review(goal)

# Hypothesis Generation
print("\n=== Hypothesis Generation ===")
hypotheses = hypothesis_agent.generate_hypotheses(literature_review)

# Experiment Design
print("\n=== Experiment Design ===")
experiment_design = experiment_agent.design_experiment(hypotheses)

# Data Analysis
print("\n=== Data Analysis ===")
analysis_summary = analysis_agent.analyze_and_learn(data)
analysis_agent.plot_time_series(data)
analysis_agent.spectral_analysis(data)
analysis_agent.rolling_statistics(data)
analysis_agent.hypothesis_testing(data)

# Predictive Modeling
print("\n=== Predictive Modeling ===")
model_forecast = model_agent.forecast_trends(data)
analysis_agent.compare_forecasting_models(data)

# Documentation
print("\n=== Documentation ===")
final_report = doc_agent.compile_report({
    "Goal": goal,
    "Literature Review": literature_review,
    "Hypotheses": hypotheses,
    "Experiment Design": experiment_design,
    "Data Analysis": analysis_summary,
    "Model Forecast": model_forecast
})
print(final_report)
